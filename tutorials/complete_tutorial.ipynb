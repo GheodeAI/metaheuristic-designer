{
 "cells": [
  {
   "cell_type": "code",
   "execution_count": 2,
   "metadata": {},
   "outputs": [],
   "source": [
    "import metaheuristic_designer as mhd\n",
    "from metaheuristic_designer import ObjectiveVectorFunc\n",
    "import numpy as np"
   ]
  },
  {
   "cell_type": "code",
   "execution_count": 3,
   "metadata": {},
   "outputs": [
    {
     "name": "stdout",
     "output_type": "stream",
     "text": [
      "[[0. 0. 0. 0. 0. 0. 0. 0. 0. 0.]\n",
      " [0. 0. 1. 0. 0. 0. 0. 0. 0. 0.]\n",
      " [0. 0. 0. 0. 0. 0. 0. 1. 0. 0.]\n",
      " [0. 1. 0. 0. 0. 0. 1. 0. 0. 1.]\n",
      " [0. 0. 1. 0. 0. 0. 0. 0. 0. 1.]\n",
      " [0. 0. 0. 0. 0. 0. 0. 0. 0. 0.]\n",
      " [0. 0. 0. 0. 0. 0. 0. 0. 0. 0.]\n",
      " [0. 0. 0. 0. 0. 0. 0. 0. 0. 0.]\n",
      " [0. 0. 1. 0. 1. 0. 0. 0. 0. 0.]\n",
      " [0. 0. 0. 0. 0. 0. 0. 0. 1. 0.]]\n"
     ]
    }
   ],
   "source": [
    "class TresureHunt(ObjectiveVectorFunc):\n",
    "    def __init__(self, n_moves, n_tresures, grid_size=(10,10),name: str = \"Tresure Hunt\"):\n",
    "        self.n_moves = n_moves\n",
    "        self.n_tresures = n_tresures\n",
    "        self.grid_size = np.array(grid_size)\n",
    "\n",
    "        # We define a grid with n_treasures\n",
    "        grid_flat = np.zeros(grid_size).flatten()\n",
    "        grid_flat[:n_tresures] = 1\n",
    "        np.random.shuffle(grid_flat)\n",
    "        self.grid = grid_flat.reshape(grid_size)\n",
    "\n",
    "        # We specify the size of the vector (n_moves), wether to maximize or minimize (mode),\n",
    "        # lower limit (low_lim), upper limit (up_lim) and name of the function (name).\n",
    "        super().__init__(n_moves, mode=\"max\", low_lim=0, up_lim=4, name=name)\n",
    "    \n",
    "    def objective(self, move_vector):\n",
    "        collected = 0\n",
    "\n",
    "        move_set = np.array([\n",
    "            [ 0, 1],\n",
    "            [ 1, 0],\n",
    "            [ 0,-1],\n",
    "            [-1, 0]\n",
    "        ])\n",
    "\n",
    "        pos = np.array([0,0])\n",
    "        grid_copy = self.grid.copy()\n",
    "        for move in move_vector:\n",
    "            new_pos = pos + move_set[move]\n",
    "\n",
    "            if new_pos[0] >= 0 and new_pos[0] < self.grid_size[0] and new_pos[1] >= 0 and new_pos[1] < self.grid_size[1]:\n",
    "                pos = new_pos\n",
    "\n",
    "                if grid_copy[*pos] == 1:\n",
    "                    collected += 1\n",
    "                    grid_copy[pos] = 0\n",
    "            \n",
    "            print(pos)\n",
    "        \n",
    "        return collected\n",
    "\n",
    "objfunc = TresureHunt(10, 10)\n",
    "print(objfunc.grid)"
   ]
  }
 ],
 "metadata": {
  "kernelspec": {
   "display_name": "evolcomp",
   "language": "python",
   "name": "python3"
  },
  "language_info": {
   "codemirror_mode": {
    "name": "ipython",
    "version": 3
   },
   "file_extension": ".py",
   "mimetype": "text/x-python",
   "name": "python",
   "nbconvert_exporter": "python",
   "pygments_lexer": "ipython3",
   "version": "3.11.4"
  },
  "orig_nbformat": 4
 },
 "nbformat": 4,
 "nbformat_minor": 2
}
