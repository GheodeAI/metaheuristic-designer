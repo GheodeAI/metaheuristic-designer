{
 "cells": [
  {
   "cell_type": "markdown",
   "metadata": {},
   "source": [
    "# Automatic algorithm/strategy selection\n",
    "Here we will show you how you can perform an algorithm selection, helping you choose the best optimization algorithm for your specific problem."
   ]
  },
  {
   "cell_type": "code",
   "execution_count": 1,
   "metadata": {},
   "outputs": [],
   "source": [
    "from metaheuristic_designer import simple\n",
    "from metaheuristic_designer.operators import OperatorVector\n",
    "from metaheuristic_designer.selectionMethods import ParentSelection, SurvivorSelection\n",
    "from metaheuristic_designer.algorithms import AlgorithmSelection, StrategySelection\n",
    "from metaheuristic_designer.initializers import UniformVectorInitializer\n",
    "from metaheuristic_designer.strategies import HillClimb, SA, ES, GA, DE, PSO, RandomSearch\n",
    "from metaheuristic_designer.benchmarks import *\n",
    "import numpy as np"
   ]
  },
  {
   "cell_type": "markdown",
   "metadata": {},
   "source": [
    "For the following examples, we will use the Rastrigin function for which we need to find the minimum value. This is a very hard optimization problem and will allow us to compare the performance of different algorithms."
   ]
  },
  {
   "cell_type": "code",
   "execution_count": 2,
   "metadata": {},
   "outputs": [],
   "source": [
    "rastrigin_func = Rastrigin(size=2)"
   ]
  },
  {
   "cell_type": "markdown",
   "metadata": {},
   "source": [
    "## Algorithm selection\n",
    "We will first explore the AlgorithmSelection class, which launches each of the specified algorithms multiple times and gets some statistics about the evaluation.\n",
    "\n",
    "We begin by defining the algorithm we are going to use. The ```simple``` package gives us premade implementations of well known optimization algorithms with a single function call, although customization is limited."
   ]
  },
  {
   "cell_type": "code",
   "execution_count": 3,
   "metadata": {},
   "outputs": [
    {
     "ename": "KeyboardInterrupt",
     "evalue": "",
     "output_type": "error",
     "traceback": [
      "\u001b[0;31m---------------------------------------------------------------------------\u001b[0m",
      "\u001b[0;31mKeyboardInterrupt\u001b[0m                         Traceback (most recent call last)",
      "Cell \u001b[0;32mIn[3], line 29\u001b[0m\n\u001b[1;32m     26\u001b[0m algorithm_search \u001b[38;5;241m=\u001b[39m AlgorithmSelection(algorithms, params)\n\u001b[1;32m     28\u001b[0m \u001b[38;5;66;03m# Launch all the algorithms and get the best overall solution\u001b[39;00m\n\u001b[0;32m---> 29\u001b[0m solution, best_fitness, report \u001b[38;5;241m=\u001b[39m \u001b[43malgorithm_search\u001b[49m\u001b[38;5;241;43m.\u001b[39;49m\u001b[43moptimize\u001b[49m\u001b[43m(\u001b[49m\u001b[43m)\u001b[49m\n",
      "File \u001b[0;32m~/Documentos/Eugenio/metaheuristic-designer/src/metaheuristic_designer/algorithms/AlgorithmSelection.py:75\u001b[0m, in \u001b[0;36mAlgorithmSelection.optimize\u001b[0;34m(self)\u001b[0m\n\u001b[1;32m     66\u001b[0m     repetition_bar \u001b[38;5;241m=\u001b[39m bar_manager\u001b[38;5;241m.\u001b[39mcounter(\n\u001b[1;32m     67\u001b[0m         total\u001b[38;5;241m=\u001b[39m\u001b[38;5;28mself\u001b[39m\u001b[38;5;241m.\u001b[39mrepetitions,\n\u001b[1;32m     68\u001b[0m         desc\u001b[38;5;241m=\u001b[39m\u001b[38;5;124mf\u001b[39m\u001b[38;5;124m\"\u001b[39m\u001b[38;5;124mEvaluating \u001b[39m\u001b[38;5;132;01m{\u001b[39;00malgorithm\u001b[38;5;241m.\u001b[39mname\u001b[38;5;132;01m}\u001b[39;00m\u001b[38;5;124m\"\u001b[39m,\n\u001b[1;32m     69\u001b[0m         color\u001b[38;5;241m=\u001b[39m\u001b[38;5;124m\"\u001b[39m\u001b[38;5;124mgreen\u001b[39m\u001b[38;5;124m\"\u001b[39m,\n\u001b[1;32m     70\u001b[0m         leave\u001b[38;5;241m=\u001b[39m\u001b[38;5;28;01mFalse\u001b[39;00m,\n\u001b[1;32m     71\u001b[0m     )\n\u001b[1;32m     73\u001b[0m \u001b[38;5;28;01mfor\u001b[39;00m _ \u001b[38;5;129;01min\u001b[39;00m \u001b[38;5;28mrange\u001b[39m(\u001b[38;5;28mself\u001b[39m\u001b[38;5;241m.\u001b[39mrepetitions):\n\u001b[1;32m     74\u001b[0m     \u001b[38;5;66;03m# Optimize using the algorithm\u001b[39;00m\n\u001b[0;32m---> 75\u001b[0m     population \u001b[38;5;241m=\u001b[39m \u001b[43malgorithm\u001b[49m\u001b[38;5;241;43m.\u001b[39;49m\u001b[43moptimize\u001b[49m\u001b[43m(\u001b[49m\u001b[43m)\u001b[49m\n\u001b[1;32m     76\u001b[0m     solution, fitness \u001b[38;5;241m=\u001b[39m population\u001b[38;5;241m.\u001b[39mbest_solution()\n\u001b[1;32m     78\u001b[0m     \u001b[38;5;66;03m# Get the dataframe row\u001b[39;00m\n",
      "File \u001b[0;32m~/Documentos/Eugenio/metaheuristic-designer/src/metaheuristic_designer/Algorithm.py:337\u001b[0m, in \u001b[0;36mAlgorithm.optimize\u001b[0;34m(self)\u001b[0m\n\u001b[1;32m    334\u001b[0m     \u001b[38;5;28mself\u001b[39m\u001b[38;5;241m.\u001b[39mstep_info(real_time_start)\n\u001b[1;32m    336\u001b[0m \u001b[38;5;28;01mwhile\u001b[39;00m \u001b[38;5;129;01mnot\u001b[39;00m \u001b[38;5;28mself\u001b[39m\u001b[38;5;241m.\u001b[39mended:\n\u001b[0;32m--> 337\u001b[0m     \u001b[38;5;28;43mself\u001b[39;49m\u001b[38;5;241;43m.\u001b[39;49m\u001b[43mstep\u001b[49m\u001b[43m(\u001b[49m\u001b[43mreal_time_start\u001b[49m\u001b[43m)\u001b[49m\n\u001b[1;32m    339\u001b[0m     \u001b[38;5;28mself\u001b[39m\u001b[38;5;241m.\u001b[39mupdate(real_time_start, cpu_time_start)\n\u001b[1;32m    341\u001b[0m     \u001b[38;5;66;03m# Display information\u001b[39;00m\n",
      "File \u001b[0;32m~/Documentos/Eugenio/metaheuristic-designer/src/metaheuristic_designer/algorithms/GeneralAlgorithm.py:39\u001b[0m, in \u001b[0;36mGeneralAlgorithm.step\u001b[0;34m(self, time_start, verbose)\u001b[0m\n\u001b[1;32m     36\u001b[0m \u001b[38;5;28;01mif\u001b[39;00m \u001b[38;5;28mself\u001b[39m\u001b[38;5;241m.\u001b[39mdebug: \u001b[38;5;28mprint\u001b[39m(\u001b[38;5;124m\"\u001b[39m\u001b[38;5;124mParent selection\u001b[39m\u001b[38;5;124m\"\u001b[39m, population)\n\u001b[1;32m     38\u001b[0m \u001b[38;5;66;03m# Evolve the selected parents\u001b[39;00m\n\u001b[0;32m---> 39\u001b[0m offspring \u001b[38;5;241m=\u001b[39m \u001b[38;5;28;43mself\u001b[39;49m\u001b[38;5;241;43m.\u001b[39;49m\u001b[43msearch_strategy\u001b[49m\u001b[38;5;241;43m.\u001b[39;49m\u001b[43mperturb\u001b[49m\u001b[43m(\u001b[49m\u001b[43mparents\u001b[49m\u001b[43m,\u001b[49m\u001b[43m \u001b[49m\u001b[43mprogress\u001b[49m\u001b[38;5;241;43m=\u001b[39;49m\u001b[38;5;28;43mself\u001b[39;49m\u001b[38;5;241;43m.\u001b[39;49m\u001b[43mprogress\u001b[49m\u001b[43m,\u001b[49m\u001b[43m \u001b[49m\u001b[43mhistory\u001b[49m\u001b[38;5;241;43m=\u001b[39;49m\u001b[38;5;28;43mself\u001b[39;49m\u001b[38;5;241;43m.\u001b[39;49m\u001b[43mbest_history\u001b[49m\u001b[43m)\u001b[49m\n\u001b[1;32m     40\u001b[0m \u001b[38;5;28;01mif\u001b[39;00m \u001b[38;5;28mself\u001b[39m\u001b[38;5;241m.\u001b[39mdebug: \u001b[38;5;28mprint\u001b[39m(\u001b[38;5;124m\"\u001b[39m\u001b[38;5;124mPerturbed\u001b[39m\u001b[38;5;124m\"\u001b[39m, offspring)\n\u001b[1;32m     42\u001b[0m \u001b[38;5;66;03m# Get the fitness of the individuals\u001b[39;00m\n",
      "File \u001b[0;32m~/Documentos/Eugenio/metaheuristic-designer/src/metaheuristic_designer/SearchStrategy.py:191\u001b[0m, in \u001b[0;36mSearchStrategy.perturb\u001b[0;34m(self, parents, **kwargs)\u001b[0m\n\u001b[1;32m    176\u001b[0m \u001b[38;5;28;01mdef\u001b[39;00m \u001b[38;5;21mperturb\u001b[39m(\u001b[38;5;28mself\u001b[39m, parents: Population, \u001b[38;5;241m*\u001b[39m\u001b[38;5;241m*\u001b[39mkwargs) \u001b[38;5;241m-\u001b[39m\u001b[38;5;241m>\u001b[39m Population:\n\u001b[1;32m    177\u001b[0m \u001b[38;5;250m    \u001b[39m\u001b[38;5;124;03m\"\"\"\u001b[39;00m\n\u001b[1;32m    178\u001b[0m \u001b[38;5;124;03m    Applies operators to the population to get the next generation of individuals.\u001b[39;00m\n\u001b[1;32m    179\u001b[0m \n\u001b[0;32m   (...)\u001b[0m\n\u001b[1;32m    188\u001b[0m \u001b[38;5;124;03m        The list of individuals modified by the operators of the search strategy.\u001b[39;00m\n\u001b[1;32m    189\u001b[0m \u001b[38;5;124;03m    \"\"\"\u001b[39;00m\n\u001b[0;32m--> 191\u001b[0m     offspring \u001b[38;5;241m=\u001b[39m \u001b[38;5;28;43mself\u001b[39;49m\u001b[38;5;241;43m.\u001b[39;49m\u001b[43moperator\u001b[49m\u001b[38;5;241;43m.\u001b[39;49m\u001b[43mevolve\u001b[49m\u001b[43m(\u001b[49m\u001b[43mparents\u001b[49m\u001b[43m,\u001b[49m\u001b[43m \u001b[49m\u001b[38;5;28;43mself\u001b[39;49m\u001b[38;5;241;43m.\u001b[39;49m\u001b[43minitializer\u001b[49m\u001b[43m)\u001b[49m\n\u001b[1;32m    192\u001b[0m     offspring \u001b[38;5;241m=\u001b[39m \u001b[38;5;28mself\u001b[39m\u001b[38;5;241m.\u001b[39mrepair_population(offspring)\n\u001b[1;32m    194\u001b[0m     \u001b[38;5;28;01mreturn\u001b[39;00m offspring\n",
      "File \u001b[0;32m~/Documentos/Eugenio/metaheuristic-designer/src/metaheuristic_designer/operators/OperatorVector.py:311\u001b[0m, in \u001b[0;36mOperatorVector.evolve\u001b[0;34m(self, population, initializer)\u001b[0m\n\u001b[1;32m    309\u001b[0m \u001b[38;5;66;03m## Other operators\u001b[39;00m\n\u001b[1;32m    310\u001b[0m \u001b[38;5;28;01melif\u001b[39;00m \u001b[38;5;28mself\u001b[39m\u001b[38;5;241m.\u001b[39mmethod \u001b[38;5;241m==\u001b[39m VectorOpMethods\u001b[38;5;241m.\u001b[39mRANDOM:\n\u001b[0;32m--> 311\u001b[0m     new_population \u001b[38;5;241m=\u001b[39m \u001b[43minitializer\u001b[49m\u001b[38;5;241;43m.\u001b[39;49m\u001b[43mgenerate_population\u001b[49m\u001b[43m(\u001b[49m\u001b[43mpopulation\u001b[49m\u001b[38;5;241;43m.\u001b[39;49m\u001b[43mobjfunc\u001b[49m\u001b[43m,\u001b[49m\u001b[43m \u001b[49m\u001b[38;5;28;43mlen\u001b[39;49m\u001b[43m(\u001b[49m\u001b[43mpopulation\u001b[49m\u001b[43m)\u001b[49m\u001b[43m)\u001b[49m\n\u001b[1;32m    313\u001b[0m \u001b[38;5;28;01melif\u001b[39;00m \u001b[38;5;28mself\u001b[39m\u001b[38;5;241m.\u001b[39mmethod \u001b[38;5;241m==\u001b[39m VectorOpMethods\u001b[38;5;241m.\u001b[39mRANDOM_MASK:\n\u001b[1;32m    314\u001b[0m     mask_pos \u001b[38;5;241m=\u001b[39m np\u001b[38;5;241m.\u001b[39mtile(np\u001b[38;5;241m.\u001b[39marange(population_matrix\u001b[38;5;241m.\u001b[39mshape[\u001b[38;5;241m1\u001b[39m]) \u001b[38;5;241m<\u001b[39m params[\u001b[38;5;124m\"\u001b[39m\u001b[38;5;124mN\u001b[39m\u001b[38;5;124m\"\u001b[39m], population_matrix\u001b[38;5;241m.\u001b[39mshape[\u001b[38;5;241m0\u001b[39m])\u001b[38;5;241m.\u001b[39mreshape(population_matrix\u001b[38;5;241m.\u001b[39mshape)\n",
      "File \u001b[0;32m~/Documentos/Eugenio/metaheuristic-designer/src/metaheuristic_designer/Initializer.py:86\u001b[0m, in \u001b[0;36mInitializer.generate_population\u001b[0;34m(self, objfunc, n_indiv)\u001b[0m\n\u001b[1;32m     83\u001b[0m \u001b[38;5;28;01mif\u001b[39;00m n_indiv \u001b[38;5;129;01mis\u001b[39;00m \u001b[38;5;28;01mNone\u001b[39;00m:\n\u001b[1;32m     84\u001b[0m     n_indiv \u001b[38;5;241m=\u001b[39m \u001b[38;5;28mself\u001b[39m\u001b[38;5;241m.\u001b[39mpop_size\n\u001b[0;32m---> 86\u001b[0m population_set \u001b[38;5;241m=\u001b[39m [\u001b[38;5;28mself\u001b[39m\u001b[38;5;241m.\u001b[39mgenerate_individual() \u001b[38;5;28;01mfor\u001b[39;00m _ \u001b[38;5;129;01min\u001b[39;00m \u001b[38;5;28mrange\u001b[39m(n_indiv)]\n\u001b[1;32m     87\u001b[0m \u001b[38;5;28;01mif\u001b[39;00m \u001b[38;5;28misinstance\u001b[39m(population_set[\u001b[38;5;241m0\u001b[39m], np\u001b[38;5;241m.\u001b[39mndarray):\n\u001b[1;32m     88\u001b[0m     population_set \u001b[38;5;241m=\u001b[39m np\u001b[38;5;241m.\u001b[39masarray(population_set)\n",
      "File \u001b[0;32m~/Documentos/Eugenio/metaheuristic-designer/src/metaheuristic_designer/Initializer.py:86\u001b[0m, in \u001b[0;36m<listcomp>\u001b[0;34m(.0)\u001b[0m\n\u001b[1;32m     83\u001b[0m \u001b[38;5;28;01mif\u001b[39;00m n_indiv \u001b[38;5;129;01mis\u001b[39;00m \u001b[38;5;28;01mNone\u001b[39;00m:\n\u001b[1;32m     84\u001b[0m     n_indiv \u001b[38;5;241m=\u001b[39m \u001b[38;5;28mself\u001b[39m\u001b[38;5;241m.\u001b[39mpop_size\n\u001b[0;32m---> 86\u001b[0m population_set \u001b[38;5;241m=\u001b[39m [\u001b[38;5;28;43mself\u001b[39;49m\u001b[38;5;241;43m.\u001b[39;49m\u001b[43mgenerate_individual\u001b[49m\u001b[43m(\u001b[49m\u001b[43m)\u001b[49m \u001b[38;5;28;01mfor\u001b[39;00m _ \u001b[38;5;129;01min\u001b[39;00m \u001b[38;5;28mrange\u001b[39m(n_indiv)]\n\u001b[1;32m     87\u001b[0m \u001b[38;5;28;01mif\u001b[39;00m \u001b[38;5;28misinstance\u001b[39m(population_set[\u001b[38;5;241m0\u001b[39m], np\u001b[38;5;241m.\u001b[39mndarray):\n\u001b[1;32m     88\u001b[0m     population_set \u001b[38;5;241m=\u001b[39m np\u001b[38;5;241m.\u001b[39masarray(population_set)\n",
      "File \u001b[0;32m~/Documentos/Eugenio/metaheuristic-designer/src/metaheuristic_designer/initializers/UniformInitializer.py:63\u001b[0m, in \u001b[0;36mUniformVectorInitializer.generate_individual\u001b[0;34m(self)\u001b[0m\n\u001b[1;32m     62\u001b[0m \u001b[38;5;28;01mdef\u001b[39;00m \u001b[38;5;21mgenerate_individual\u001b[39m(\u001b[38;5;28mself\u001b[39m):\n\u001b[0;32m---> 63\u001b[0m     \u001b[38;5;28;01mreturn\u001b[39;00m \u001b[38;5;28;43mself\u001b[39;49m\u001b[38;5;241;43m.\u001b[39;49m\u001b[43mgenerate_random\u001b[49m\u001b[43m(\u001b[49m\u001b[43m)\u001b[49m\n",
      "File \u001b[0;32m~/Documentos/Eugenio/metaheuristic-designer/src/metaheuristic_designer/initializers/UniformInitializer.py:54\u001b[0m, in \u001b[0;36mUniformVectorInitializer.generate_random\u001b[0;34m(self)\u001b[0m\n\u001b[1;32m     53\u001b[0m \u001b[38;5;28;01mdef\u001b[39;00m \u001b[38;5;21mgenerate_random\u001b[39m(\u001b[38;5;28mself\u001b[39m):\n\u001b[0;32m---> 54\u001b[0m     new_vector_float \u001b[38;5;241m=\u001b[39m \u001b[43mRAND_GEN\u001b[49m\u001b[38;5;241;43m.\u001b[39;49m\u001b[43muniform\u001b[49m\u001b[43m(\u001b[49m\u001b[38;5;28;43mself\u001b[39;49m\u001b[38;5;241;43m.\u001b[39;49m\u001b[43mlow_lim\u001b[49m\u001b[43m,\u001b[49m\u001b[43m \u001b[49m\u001b[38;5;28;43mself\u001b[39;49m\u001b[38;5;241;43m.\u001b[39;49m\u001b[43mup_lim\u001b[49m\u001b[43m,\u001b[49m\u001b[43m \u001b[49m\u001b[43msize\u001b[49m\u001b[38;5;241;43m=\u001b[39;49m\u001b[38;5;28;43mself\u001b[39;49m\u001b[38;5;241;43m.\u001b[39;49m\u001b[43mgenotype_size\u001b[49m\u001b[43m)\u001b[49m\n\u001b[1;32m     55\u001b[0m     \u001b[38;5;28;01mif\u001b[39;00m \u001b[38;5;28mself\u001b[39m\u001b[38;5;241m.\u001b[39mdtype \u001b[38;5;129;01mis\u001b[39;00m \u001b[38;5;28mint\u001b[39m:\n\u001b[1;32m     56\u001b[0m         new_vector \u001b[38;5;241m=\u001b[39m np\u001b[38;5;241m.\u001b[39mround(new_vector_float)\u001b[38;5;241m.\u001b[39mastype(\u001b[38;5;28mself\u001b[39m\u001b[38;5;241m.\u001b[39mdtype)\n",
      "File \u001b[0;32mnumpy/random/_generator.pyx:1110\u001b[0m, in \u001b[0;36mnumpy.random._generator.Generator.uniform\u001b[0;34m()\u001b[0m\n",
      "File \u001b[0;32m_common.pyx:621\u001b[0m, in \u001b[0;36mnumpy.random._common.cont\u001b[0;34m()\u001b[0m\n",
      "File \u001b[0;32m_common.pyx:526\u001b[0m, in \u001b[0;36mnumpy.random._common.cont_broadcast_2\u001b[0;34m()\u001b[0m\n",
      "File \u001b[0;32m_common.pyx:388\u001b[0m, in \u001b[0;36mnumpy.random._common.check_array_constraint\u001b[0;34m()\u001b[0m\n",
      "File \u001b[0;32m~/anaconda3/envs/mhd/lib/python3.10/site-packages/numpy/_core/fromnumeric.py:2491\u001b[0m, in \u001b[0;36m_any_dispatcher\u001b[0;34m(a, axis, out, keepdims, where)\u001b[0m\n\u001b[1;32m   2483\u001b[0m         \u001b[38;5;28;01mreturn\u001b[39;00m res\n\u001b[1;32m   2485\u001b[0m     \u001b[38;5;28;01mreturn\u001b[39;00m _wrapreduction(\n\u001b[1;32m   2486\u001b[0m         a, np\u001b[38;5;241m.\u001b[39madd, \u001b[38;5;124m'\u001b[39m\u001b[38;5;124msum\u001b[39m\u001b[38;5;124m'\u001b[39m, axis, dtype, out,\n\u001b[1;32m   2487\u001b[0m         keepdims\u001b[38;5;241m=\u001b[39mkeepdims, initial\u001b[38;5;241m=\u001b[39minitial, where\u001b[38;5;241m=\u001b[39mwhere\n\u001b[1;32m   2488\u001b[0m     )\n\u001b[0;32m-> 2491\u001b[0m \u001b[38;5;28;01mdef\u001b[39;00m \u001b[38;5;21m_any_dispatcher\u001b[39m(a, axis\u001b[38;5;241m=\u001b[39m\u001b[38;5;28;01mNone\u001b[39;00m, out\u001b[38;5;241m=\u001b[39m\u001b[38;5;28;01mNone\u001b[39;00m, keepdims\u001b[38;5;241m=\u001b[39m\u001b[38;5;28;01mNone\u001b[39;00m, \u001b[38;5;241m*\u001b[39m,\n\u001b[1;32m   2492\u001b[0m                     where\u001b[38;5;241m=\u001b[39mnp\u001b[38;5;241m.\u001b[39m_NoValue):\n\u001b[1;32m   2493\u001b[0m     \u001b[38;5;28;01mreturn\u001b[39;00m (a, where, out)\n\u001b[1;32m   2496\u001b[0m \u001b[38;5;129m@array_function_dispatch\u001b[39m(_any_dispatcher)\n\u001b[1;32m   2497\u001b[0m \u001b[38;5;28;01mdef\u001b[39;00m \u001b[38;5;21many\u001b[39m(a, axis\u001b[38;5;241m=\u001b[39m\u001b[38;5;28;01mNone\u001b[39;00m, out\u001b[38;5;241m=\u001b[39m\u001b[38;5;28;01mNone\u001b[39;00m, keepdims\u001b[38;5;241m=\u001b[39mnp\u001b[38;5;241m.\u001b[39m_NoValue, \u001b[38;5;241m*\u001b[39m, where\u001b[38;5;241m=\u001b[39mnp\u001b[38;5;241m.\u001b[39m_NoValue):\n",
      "\u001b[0;31mKeyboardInterrupt\u001b[0m: "
     ]
    }
   ],
   "source": [
    "# The parameters common to all algorithms\n",
    "params = {\n",
    "    # Stopping condition\n",
    "    \"stop_cond\": \"neval\",\n",
    "    \"neval\": 5e4,\n",
    "    # Encoding\n",
    "    \"encoding\": \"real\",\n",
    "    # Disable verbose, the output gets very cluttered otherwise\n",
    "    \"verbose\": False,\n",
    "    # Number of times to launch each algorithm\n",
    "    \"repetitions\": 10,\n",
    "}\n",
    "\n",
    "# Define the algorithms we are going to use\n",
    "algorithms = [\n",
    "    simple.random_search(params, rastrigin_func),\n",
    "    simple.hill_climb(params, rastrigin_func),\n",
    "    simple.simulated_annealing(params, rastrigin_func),\n",
    "    simple.evolution_strategy(params, rastrigin_func),\n",
    "    simple.genetic_algorithm(params, rastrigin_func),\n",
    "    simple.differential_evolution(params, rastrigin_func),\n",
    "    simple.particle_swarm(params, rastrigin_func),\n",
    "]\n",
    "\n",
    "# Instanciate the AlgorithmSelection class\n",
    "algorithm_search = AlgorithmSelection(algorithms, params)\n",
    "\n",
    "# Launch all the algorithms and get the best overall solution\n",
    "solution, best_fitness, report = algorithm_search.optimize()"
   ]
  },
  {
   "cell_type": "markdown",
   "metadata": {},
   "source": [
    "The optimize function should have returned the best overall solution and a report with statistics about the execution"
   ]
  },
  {
   "cell_type": "code",
   "execution_count": null,
   "metadata": {},
   "outputs": [],
   "source": [
    "print(f\"best solution: {solution}\")\n",
    "print(f\"fitness: {best_fitness}\")"
   ]
  },
  {
   "cell_type": "code",
   "execution_count": null,
   "metadata": {},
   "outputs": [],
   "source": [
    "report.sort_values(\"fitness_avg\")"
   ]
  },
  {
   "cell_type": "markdown",
   "metadata": {},
   "source": [
    "With this, we can clearly see that the best algorithm for this task seems to be the Differential Evolution algorithm, and surprisingly, RandomSearch performs better than HillClimb, SA, ES and even GA. This could be caused by some misconfiguration of parameters, but since we just used the default implementation, we have no way of changing this."
   ]
  },
  {
   "cell_type": "markdown",
   "metadata": {},
   "source": [
    "## Strategy Selection\n",
    "We could have specified the algorithms directly constructing them piece by piece, but unless you need to try some specific implementation of an algorithm, it is much simpler to search for the best Search Strategy. This is where the StrategySearch class is used. It is very similar to the AlgorithmSelection class, but using search strategies.\n",
    "\n",
    "This also has the advantage that you can choose a custom name for each strategy."
   ]
  },
  {
   "cell_type": "code",
   "execution_count": null,
   "metadata": {},
   "outputs": [],
   "source": [
    "# Initializer for sinlge-solution algorithms\n",
    "single_initializer = UniformVectorInitializer(rastrigin_func.vecsize, rastrigin_func.low_lim, rastrigin_func.up_lim, pop_size=1)\n",
    "\n",
    "# Initializer for population-based algorithms\n",
    "pop_initializer = UniformVectorInitializer(rastrigin_func.vecsize, rastrigin_func.low_lim, rastrigin_func.up_lim, pop_size=100)\n",
    "\n",
    "# Define strategies to be tested\n",
    "strategies = [\n",
    "    RandomSearch(pop_initializer),\n",
    "    HillClimb(\n",
    "        single_initializer,\n",
    "        OperatorVector(\"RandNoise\", {\"distrib\": \"Gauss\", \"F\": 1e-3}),\n",
    "        name=\"HillClimb\",\n",
    "    ),\n",
    "    SA(\n",
    "        single_initializer,\n",
    "        OperatorVector(\"RandNoise\", {\"distrib\": \"Gauss\", \"F\": 1e-3}),\n",
    "        params={\"iter\": 100, \"temp_init\": 1, \"alpha\": 0.995},\n",
    "        name=\"SA\",\n",
    "    ),\n",
    "    SA(\n",
    "        pop_initializer,\n",
    "        OperatorVector(\"RandNoise\", {\"distrib\": \"Gauss\", \"F\": 1e-3}),\n",
    "        params={\"iter\": 100, \"temp_init\": 1, \"alpha\": 0.995},\n",
    "        name=\"ParallelSA\",\n",
    "    ),\n",
    "    ES(\n",
    "        pop_initializer,\n",
    "        mutation_op=OperatorVector(\"RandNoise\", {\"distrib\": \"Gauss\", \"F\": 5e-3}),\n",
    "        survivor_sel=SurvivorSelection(\"(m+n)\"),\n",
    "        params={\"offspringSize\": 150},\n",
    "        name=\"ES-(μ+λ)\",\n",
    "    ),\n",
    "    ES(\n",
    "        pop_initializer,\n",
    "        mutation_op=OperatorVector(\"RandNoise\", {\"distrib\": \"Gauss\", \"F\": 5e-2}),\n",
    "        survivor_sel=SurvivorSelection(\"(m,n)\"),\n",
    "        params={\"offspringSize\": 700},\n",
    "        name=\"ES-(μ,λ)\",\n",
    "    ),\n",
    "    GA(\n",
    "        pop_initializer,\n",
    "        mutation_op=OperatorVector(\"RandNoise\", {\"distrib\": \"Gauss\", \"F\": 1e-3}),\n",
    "        cross_op=OperatorVector(\"Multipoint\"),\n",
    "        parent_sel=ParentSelection(\"Tournament\", {\"amount\": 60, \"p\": 0.1}),\n",
    "        survivor_sel=SurvivorSelection(\"Elitism\", {\"amount\": 10}),\n",
    "        params={\"pcross\": 0.9, \"pmut\": 0.1},\n",
    "        name=\"GA\",\n",
    "    ),\n",
    "    DE(\n",
    "        pop_initializer,\n",
    "        OperatorVector(\"DE/best/1\", {\"F\": 0.8, \"Cr\": 0.8}),\n",
    "        name=\"DE/best/1\",\n",
    "    ),\n",
    "    DE(\n",
    "        pop_initializer,\n",
    "        OperatorVector(\"DE/rand/1\", {\"F\": 0.8, \"Cr\": 0.8}),\n",
    "        name=\"DE/rand/1\",\n",
    "    ),\n",
    "    DE(\n",
    "        pop_initializer,\n",
    "        OperatorVector(\"DE/current-to-best/1\", {\"F\": 0.8, \"Cr\": 0.8}),\n",
    "        name=\"DE/current-to-best/1\",\n",
    "    ),\n",
    "    PSO(pop_initializer, {\"w\": 0.7, \"c1\": 1.5, \"c2\": 1.5}, name=\"PSO\"),\n",
    "]\n",
    "\n",
    "# Instanciate the StrategySelection class\n",
    "algorithm_search = StrategySelection(\n",
    "    rastrigin_func,\n",
    "    strategies,\n",
    "    algorithm_params={\n",
    "        \"stop_cond\": \"neval\",\n",
    "        \"neval\": 5e4,\n",
    "        \"verbose\": False,\n",
    "    },\n",
    "    params={\"verbose\": True, \"repetitions\": 10},\n",
    ")\n",
    "\n",
    "# Launch all the algorithms and get the best overall solution\n",
    "solution, best_fitness, report = algorithm_search.optimize()"
   ]
  },
  {
   "cell_type": "code",
   "execution_count": null,
   "metadata": {},
   "outputs": [],
   "source": [
    "print(f\"best solution: {solution}\")\n",
    "print(f\"fitness: {best_fitness}\")"
   ]
  },
  {
   "cell_type": "code",
   "execution_count": null,
   "metadata": {},
   "outputs": [],
   "source": [
    "report.sort_values(\"fitness_avg\")"
   ]
  }
 ],
 "metadata": {
  "kernelspec": {
   "display_name": "mhd",
   "language": "python",
   "name": "python3"
  },
  "language_info": {
   "codemirror_mode": {
    "name": "ipython",
    "version": 3
   },
   "file_extension": ".py",
   "mimetype": "text/x-python",
   "name": "python",
   "nbconvert_exporter": "python",
   "pygments_lexer": "ipython3",
   "version": "3.10.15"
  }
 },
 "nbformat": 4,
 "nbformat_minor": 2
}
