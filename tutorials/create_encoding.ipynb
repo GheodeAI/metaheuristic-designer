{
 "cells": [
  {
   "cell_type": "markdown",
   "metadata": {},
   "source": [
    "# Defining custom operators"
   ]
  },
  {
   "cell_type": "markdown",
   "metadata": {},
   "source": [
    "In this notebook we are going to show how you can define custom operators that can be used with any metaheuristic algorithm.\n",
    "\n",
    "We will give a number of different ways of doing it, so you can choose which one is more appropiate for you."
   ]
  },
  {
   "cell_type": "code",
   "execution_count": 9,
   "metadata": {},
   "outputs": [],
   "source": [
    "import metaheuristic_designer as mhd\n",
    "from metaheuristic_designer import GeneralSearch, Operator\n",
    "from metaheuristic_designer.operators import OperatorLambda\n",
    "from metaheuristic_designer.algorithms import HillClimb\n",
    "from metaheuristic_designer.initializers import UniformVectorInitializer\n",
    "from metaheuristic_designer.benchmarks import Sphere\n",
    "from copy import copy\n",
    "import numpy as np\n",
    "import random"
   ]
  },
  {
   "cell_type": "markdown",
   "metadata": {},
   "source": [
    "## With an already defined function"
   ]
  },
  {
   "cell_type": "markdown",
   "metadata": {},
   "source": [
    "Let's say you have an already programmed function that will serve as a mutation or a cross operator for an algorithm. To use it in this framework, it will need to accept 4 parameters:\n",
    "- An individual that we are attempting to modify.\n",
    "- A population of individuals that are the parents selected for mutation.\n",
    "- The objective function we are optimizing.\n",
    "- A dictionary with other additional parameters.\n",
    "\n",
    "Here's an example.\n"
   ]
  },
  {
   "cell_type": "code",
   "execution_count": 10,
   "metadata": {},
   "outputs": [],
   "source": [
    "def mutate_custom(indiv, population, objfunc, **params):\n",
    "    vector = indiv.genotype\n",
    "    return vector + np.random.normal(0, params[\"F\"], vector.shape)"
   ]
  },
  {
   "cell_type": "markdown",
   "metadata": {},
   "source": [
    "To convert it into an operator, we will pass it to the ```OperatorLambda``` class to along with its name and other parameters."
   ]
  },
  {
   "cell_type": "code",
   "execution_count": 11,
   "metadata": {},
   "outputs": [],
   "source": [
    "operator = OperatorLambda(\n",
    "    mutate_custom, name=\"GaussianNoise_lambda\", params={\"F\": 1e-3}\n",
    ")"
   ]
  },
  {
   "cell_type": "markdown",
   "metadata": {},
   "source": [
    "Now we can directly use it with any algorithm we want, in this case, we will use it in a Hill Climb algorithm."
   ]
  },
  {
   "cell_type": "code",
   "execution_count": 12,
   "metadata": {},
   "outputs": [
    {
     "name": "stdout",
     "output_type": "stream",
     "text": [
      "Initializing optimization of Sphere function using HillClimb\n",
      "------------------------------------------------------------\n",
      "\n",
      "Optimizing Sphere function using HillClimb:\n",
      "\tReal time Spent: 0.0 s\n",
      "\tCPU time Spent:  0.0 s\n",
      "\tGeneration: 0\n",
      "\tBest fitness: 5415.286292004781\n",
      "\tEvaluations of fitness: 1\n",
      "\n"
     ]
    },
    {
     "name": "stdout",
     "output_type": "stream",
     "text": [
      "Optimizing Sphere function using HillClimb:\n",
      "\tReal time Spent: 2.0 s\n",
      "\tCPU time Spent:  2.0 s\n",
      "\tGeneration: 133069\n",
      "\tBest fitness: 412.2064937741036\n",
      "\tEvaluations of fitness: 133070\n",
      "\n",
      "Optimizing Sphere function using HillClimb:\n",
      "\tReal time Spent: 4.0 s\n",
      "\tCPU time Spent:  4.0 s\n",
      "\tGeneration: 259371\n",
      "\tBest fitness: 1.2397215290188667e-09\n",
      "\tEvaluations of fitness: 259372\n",
      "\n",
      "Optimizing Sphere function using HillClimb:\n",
      "\tReal time Spent: 6.0 s\n",
      "\tCPU time Spent:  6.0 s\n",
      "\tGeneration: 392311\n",
      "\tBest fitness: 1.1174567301937887e-09\n",
      "\tEvaluations of fitness: 392312\n",
      "\n",
      "Optimizing Sphere function using HillClimb:\n",
      "\tReal time Spent: 8.0 s\n",
      "\tCPU time Spent:  8.0 s\n",
      "\tGeneration: 525680\n",
      "\tBest fitness: 1.1174567301937887e-09\n",
      "\tEvaluations of fitness: 525681\n",
      "\n"
     ]
    }
   ],
   "source": [
    "# Define the parameters of the optimization process\n",
    "params = {\"stop_cond\": \"time_limit\", \"time_limit\": 10.0, \"verbose\": True, \"v_timer\": 2}\n",
    "\n",
    "# Define the objective function\n",
    "objfunc = Sphere(3)\n",
    "\n",
    "# Define a population initialization module\n",
    "pop_init = UniformVectorInitializer(\n",
    "    objfunc.vecsize, objfunc.low_lim, objfunc.up_lim, pop_size=1\n",
    ")\n",
    "\n",
    "# Instanciate the newly created algorithm\n",
    "algorithm = HillClimb(pop_init, operator)\n",
    "\n",
    "# Define a Search method\n",
    "search = GeneralSearch(objfunc, algorithm, params)\n",
    "\n",
    "# Optimize the objective function\n",
    "best_solution, best_fitness = search.optimize()"
   ]
  },
  {
   "cell_type": "code",
   "execution_count": 13,
   "metadata": {},
   "outputs": [
    {
     "name": "stdout",
     "output_type": "stream",
     "text": [
      "Best solution: [ 4.43236770e-06 -2.22897807e-06  2.18093450e-05]\n",
      "Solution fitness: 5.002617550341376e-10\n",
      "\n",
      "Number of generations: 658842\n",
      "Real time spent: 10.00002s\n",
      "CPU time spent: 9.99193s\n",
      "Number of fitness evaluations: 658843\n",
      "Best fitness: 5.002617550341376e-10\n"
     ]
    },
    {
     "data": {
      "image/png": "[encoded data removed]",
      "text/plain": [
       "<Figure size 640x480 with 1 Axes>"
      ]
     },
     "metadata": {},
     "output_type": "display_data"
    }
   ],
   "source": [
    "print(f\"Best solution: {best_solution}\")\n",
    "print(f\"Solution fitness: {best_fitness}\\n\")\n",
    "search.display_report()"
   ]
  },
  {
   "cell_type": "markdown",
   "metadata": {},
   "source": [
    "## With an operator class"
   ]
  },
  {
   "cell_type": "markdown",
   "metadata": {},
   "source": [
    "If we want a little bit more control of how our operator will be applied, we can make a class that inherits from the base ```Operator``` class.\n",
    "\n",
    "We will need to implement the ```evolve``` method, which will receive a number of parameters shown below."
   ]
  },
  {
   "cell_type": "code",
   "execution_count": 14,
   "metadata": {},
   "outputs": [
    {
     "data": {
      "text/plain": [
       "'GaussianNoise_Class'"
      ]
     },
     "execution_count": 14,
     "metadata": {},
     "output_type": "execute_result"
    }
   ],
   "source": [
    "class OperatorCustom(Operator):\n",
    "    def __init__(self, sigma, params=None, name=None):\n",
    "        self.sigma = sigma\n",
    "        super().__init__(params, name)\n",
    "\n",
    "    def evolve(self, indiv, population, objfunc, global_best, initializer):\n",
    "        # It is good practice to always make a copy of the individual to ensure that we don't\n",
    "        # modify it directly\n",
    "        new_indiv = copy(indiv)\n",
    "\n",
    "        # We apply a mutation to the individual\n",
    "        vector = new_indiv.genotype\n",
    "        new_indiv.genotype = vector + np.random.normal(0, self.sigma, vector.shape)\n",
    "\n",
    "        return new_indiv\n",
    "\n",
    "\n",
    "op_custom = OperatorCustom(1e-3, name=\"GaussianNoise_Class\")\n",
    "op_custom.name"
   ]
  },
  {
   "cell_type": "markdown",
   "metadata": {},
   "source": [
    "We can once again use this operator as normal."
   ]
  },
  {
   "cell_type": "code",
   "execution_count": 17,
   "metadata": {},
   "outputs": [
    {
     "name": "stdout",
     "output_type": "stream",
     "text": [
      "Initializing optimization of Sphere function using HillClimb\n",
      "------------------------------------------------------------\n",
      "\n",
      "Optimizing Sphere function using HillClimb:\n",
      "\tReal time Spent: 0.0 s\n",
      "\tCPU time Spent:  0.0 s\n",
      "\tGeneration: 0\n",
      "\tBest fitness: 4837.711925988624\n",
      "\tEvaluations of fitness: 1\n",
      "\n",
      "Optimizing Sphere function using HillClimb:\n",
      "\tReal time Spent: 2.0 s\n",
      "\tCPU time Spent:  2.0 s\n",
      "\tGeneration: 126770\n",
      "\tBest fitness: 360.528564563992\n",
      "\tEvaluations of fitness: 126771\n",
      "\n",
      "Optimizing Sphere function using HillClimb:\n",
      "\tReal time Spent: 4.0 s\n",
      "\tCPU time Spent:  4.0 s\n",
      "\tGeneration: 257540\n",
      "\tBest fitness: 9.136899843218854e-10\n",
      "\tEvaluations of fitness: 257541\n",
      "\n",
      "Optimizing Sphere function using HillClimb:\n",
      "\tReal time Spent: 6.0 s\n",
      "\tCPU time Spent:  6.0 s\n",
      "\tGeneration: 388027\n",
      "\tBest fitness: 9.136899843218854e-10\n",
      "\tEvaluations of fitness: 388028\n",
      "\n",
      "Optimizing Sphere function using HillClimb:\n",
      "\tReal time Spent: 8.0 s\n",
      "\tCPU time Spent:  8.0 s\n",
      "\tGeneration: 521886\n",
      "\tBest fitness: 1.0248925258923705e-10\n",
      "\tEvaluations of fitness: 521887\n",
      "\n"
     ]
    }
   ],
   "source": [
    "# Define the parameters of the optimization process\n",
    "params = {\"stop_cond\": \"time_limit\", \"time_limit\": 10.0, \"verbose\": True, \"v_timer\": 2}\n",
    "\n",
    "# Define the objective function\n",
    "objfunc = Sphere(3)\n",
    "\n",
    "# Define a population initialization module\n",
    "pop_init = UniformVectorInitializer(\n",
    "    objfunc.vecsize, objfunc.low_lim, objfunc.up_lim, pop_size=1\n",
    ")\n",
    "\n",
    "# Instanciate the newly created algorithm\n",
    "algorithm = HillClimb(pop_init, operator)\n",
    "\n",
    "# Define a Search method\n",
    "search = GeneralSearch(objfunc, algorithm, params)\n",
    "\n",
    "# Optimize the objective function\n",
    "best_solution, best_fitness = search.optimize()"
   ]
  },
  {
   "cell_type": "code",
   "execution_count": 18,
   "metadata": {},
   "outputs": [
    {
     "name": "stdout",
     "output_type": "stream",
     "text": [
      "Best solution: [ 8.06079626e-06  3.11855865e-06 -5.27137631e-06]\n",
      "Solution fitness: 1.0248925258923705e-10\n",
      "\n",
      "Number of generations: 653847\n",
      "Real time spent: 10.00002s\n",
      "CPU time spent: 9.99331s\n",
      "Number of fitness evaluations: 653848\n",
      "Best fitness: 1.0248925258923705e-10\n"
     ]
    },
    {
     "data": {
      "image/png": "[encoded data removed]",
      "text/plain": [
       "<Figure size 640x480 with 1 Axes>"
      ]
     },
     "metadata": {},
     "output_type": "display_data"
    }
   ],
   "source": [
    "print(f\"Best solution: {best_solution}\")\n",
    "print(f\"Solution fitness: {best_fitness}\\n\")\n",
    "search.display_report()"
   ]
  }
 ],
 "metadata": {
  "kernelspec": {
   "display_name": "Python 3",
   "language": "python",
   "name": "python3"
  },
  "language_info": {
   "codemirror_mode": {
    "name": "ipython",
    "version": 3
   },
   "file_extension": ".py",
   "mimetype": "text/x-python",
   "name": "python",
   "nbconvert_exporter": "python",
   "pygments_lexer": "ipython3",
   "version": "3.11.4"
  },
  "orig_nbformat": 4,
  "vscode": {
   "interpreter": {
    "hash": "e7370f93d1d0cde622a1f8e1c04877d8463912d04d973331ad4851f04de6915a"
   }
  }
 },
 "nbformat": 4,
 "nbformat_minor": 2
}
